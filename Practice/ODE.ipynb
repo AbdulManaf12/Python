{
 "cells": [
  {
   "cell_type": "code",
   "execution_count": 3,
   "metadata": {},
   "outputs": [
    {
     "ename": "TypeError",
     "evalue": "'float' object is not subscriptable",
     "output_type": "error",
     "traceback": [
      "\u001b[1;31m---------------------------------------------------------------------------\u001b[0m",
      "\u001b[1;31mTypeError\u001b[0m                                 Traceback (most recent call last)",
      "Cell \u001b[1;32mIn [3], line 20\u001b[0m\n\u001b[0;32m     17\u001b[0m x0 \u001b[39m=\u001b[39m np\u001b[39m.\u001b[39marray([\u001b[39m1\u001b[39m, \u001b[39m0\u001b[39m])\n\u001b[0;32m     19\u001b[0m \u001b[39m# solve the system using scipy's odeint function\u001b[39;00m\n\u001b[1;32m---> 20\u001b[0m x \u001b[39m=\u001b[39m odeint(time_delay_system, x0, t)\n\u001b[0;32m     22\u001b[0m \u001b[39m# plot the results\u001b[39;00m\n\u001b[0;32m     23\u001b[0m plt\u001b[39m.\u001b[39mplot(t, x[:,\u001b[39m0\u001b[39m], label\u001b[39m=\u001b[39m\u001b[39m'\u001b[39m\u001b[39mx1\u001b[39m\u001b[39m'\u001b[39m)\n",
      "File \u001b[1;32mc:\\Users\\Administrator\\AppData\\Local\\Programs\\Python\\Python39\\lib\\site-packages\\scipy\\integrate\\_odepack_py.py:241\u001b[0m, in \u001b[0;36modeint\u001b[1;34m(func, y0, t, args, Dfun, col_deriv, full_output, ml, mu, rtol, atol, tcrit, h0, hmax, hmin, ixpr, mxstep, mxhnil, mxordn, mxords, printmessg, tfirst)\u001b[0m\n\u001b[0;32m    239\u001b[0m t \u001b[39m=\u001b[39m copy(t)\n\u001b[0;32m    240\u001b[0m y0 \u001b[39m=\u001b[39m copy(y0)\n\u001b[1;32m--> 241\u001b[0m output \u001b[39m=\u001b[39m _odepack\u001b[39m.\u001b[39;49modeint(func, y0, t, args, Dfun, col_deriv, ml, mu,\n\u001b[0;32m    242\u001b[0m                          full_output, rtol, atol, tcrit, h0, hmax, hmin,\n\u001b[0;32m    243\u001b[0m                          ixpr, mxstep, mxhnil, mxordn, mxords,\n\u001b[0;32m    244\u001b[0m                          \u001b[39mint\u001b[39;49m(\u001b[39mbool\u001b[39;49m(tfirst)))\n\u001b[0;32m    245\u001b[0m \u001b[39mif\u001b[39;00m output[\u001b[39m-\u001b[39m\u001b[39m1\u001b[39m] \u001b[39m<\u001b[39m \u001b[39m0\u001b[39m:\n\u001b[0;32m    246\u001b[0m     warning_msg \u001b[39m=\u001b[39m _msgs[output[\u001b[39m-\u001b[39m\u001b[39m1\u001b[39m]] \u001b[39m+\u001b[39m \u001b[39m\"\u001b[39m\u001b[39m Run with full_output = 1 to get quantitative information.\u001b[39m\u001b[39m\"\u001b[39m\n",
      "Cell \u001b[1;32mIn [3], line 13\u001b[0m, in \u001b[0;36mtime_delay_system\u001b[1;34m(x, t)\u001b[0m\n\u001b[0;32m     12\u001b[0m \u001b[39mdef\u001b[39;00m \u001b[39mtime_delay_system\u001b[39m(x, t):\n\u001b[1;32m---> 13\u001b[0m     x_dot \u001b[39m=\u001b[39m A\u001b[39m.\u001b[39mdot(x) \u001b[39m+\u001b[39m np\u001b[39m.\u001b[39mdot(A, np\u001b[39m.\u001b[39mpower(t[\u001b[39m-\u001b[39;49m\u001b[39m1\u001b[39;49m] \u001b[39m-\u001b[39m t, \u001b[39m4\u001b[39m))\u001b[39m.\u001b[39mdot(x[t \u001b[39m<\u001b[39m\u001b[39m=\u001b[39m \u001b[39m0\u001b[39m][\u001b[39m-\u001b[39m\u001b[39msum\u001b[39m(t \u001b[39m<\u001b[39m\u001b[39m=\u001b[39m \u001b[39m0\u001b[39m):]) \u001b[39m+\u001b[39m np\u001b[39m.\u001b[39mdot(A, np\u001b[39m.\u001b[39mtrapz(f[t \u001b[39m<\u001b[39m\u001b[39m=\u001b[39m t[\u001b[39m-\u001b[39m\u001b[39m1\u001b[39m] \u001b[39m-\u001b[39m h], t[t \u001b[39m<\u001b[39m\u001b[39m=\u001b[39m t[\u001b[39m-\u001b[39m\u001b[39m1\u001b[39m] \u001b[39m-\u001b[39m h]))\n\u001b[0;32m     14\u001b[0m     \u001b[39mreturn\u001b[39;00m x_dot\n",
      "\u001b[1;31mTypeError\u001b[0m: 'float' object is not subscriptable"
     ]
    }
   ],
   "source": [
    "import numpy as np\n",
    "import matplotlib.pyplot as plt\n",
    "from scipy.integrate import odeint\n",
    "\n",
    "# define the parameters of the system\n",
    "h = 0.5\n",
    "A = np.array([[-1, 2], [0, -3]])\n",
    "f = np.sin(np.linspace(0, 10, 100))\n",
    "t = np.linspace(0, 10, 100)\n",
    "\n",
    "# define the system as a function that takes in x and t\n",
    "def time_delay_system(x, t):\n",
    "    x_dot = A.dot(x) + np.dot(A, np.power(t[-1] - t, 4)).dot(x[t <= 0][-sum(t <= 0):]) + np.dot(A, np.trapz(f[t <= t[-1] - h], t[t <= t[-1] - h]))\n",
    "    return x_dot\n",
    "\n",
    "# initial condition\n",
    "x0 = np.array([1, 0])\n",
    "\n",
    "# solve the system using scipy's odeint function\n",
    "x = odeint(time_delay_system, x0, t)\n",
    "\n",
    "# plot the results\n",
    "plt.plot(t, x[:,0], label='x1')\n",
    "plt.plot(t, x[:,1], label='x2')\n",
    "plt.xlabel('time')\n",
    "plt.ylabel('x')\n",
    "plt.legend()\n",
    "plt.show()\n"
   ]
  },
  {
   "cell_type": "code",
   "execution_count": null,
   "metadata": {},
   "outputs": [],
   "source": []
  }
 ],
 "metadata": {
  "kernelspec": {
   "display_name": "Python 3.9.0 64-bit",
   "language": "python",
   "name": "python3"
  },
  "language_info": {
   "codemirror_mode": {
    "name": "ipython",
    "version": 3
   },
   "file_extension": ".py",
   "mimetype": "text/x-python",
   "name": "python",
   "nbconvert_exporter": "python",
   "pygments_lexer": "ipython3",
   "version": "3.9.0"
  },
  "orig_nbformat": 4,
  "vscode": {
   "interpreter": {
    "hash": "6fff98fc3b3d81bd655c2cc48858186e4d9e2db7b515bf1c3221888f12a62f87"
   }
  }
 },
 "nbformat": 4,
 "nbformat_minor": 2
}
