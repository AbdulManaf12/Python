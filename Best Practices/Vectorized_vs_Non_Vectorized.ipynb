{
 "cells": [
  {
   "cell_type": "markdown",
   "metadata": {},
   "source": [
    "#Vectorized vs Non-Vectorized\n",
    "\n",
    "Dont use non-vectorized code in python due to it is taking more time then vectorized like without loops you can reduce the time so in this example how you can make your code much more faster."
   ]
  },
  {
   "cell_type": "markdown",
   "metadata": {},
   "source": [
    "1. Example"
   ]
  },
  {
   "cell_type": "code",
   "execution_count": 17,
   "metadata": {},
   "outputs": [
    {
     "name": "stdout",
     "output_type": "stream",
     "text": [
      "Vectorization time: 1.6627311706542969ms, dot product: 250303.19135004934\n",
      "Non-vectorization time: 594.0101146697998ms, dot product: 250303.19135005557\n"
     ]
    }
   ],
   "source": [
    "import numpy as np\n",
    "import time\n",
    "\n",
    "# Define the size of the arrays\n",
    "array_size = 1000000\n",
    "\n",
    "# Generate random arrays\n",
    "a = np.random.rand(array_size)\n",
    "b = np.random.rand(array_size)\n",
    "\n",
    "# Vectorization\n",
    "start_time = time.time()\n",
    "c = np.dot(a, b)\n",
    "end_time = time.time()\n",
    "print(f'Vectorization time: {1000 * (end_time - start_time)}ms, dot product: {c}')\n",
    "\n",
    "# Non-vectorization\n",
    "start_time = time.time()\n",
    "c = 0\n",
    "for i in range(array_size):\n",
    "    c += a[i] * b[i]\n",
    "end_time = time.time()\n",
    "print(f'Non-vectorization time: {1000 * (end_time - start_time)}ms, dot product: {c}')"
   ]
  },
  {
   "cell_type": "code",
   "execution_count": 28,
   "metadata": {},
   "outputs": [
    {
     "name": "stdout",
     "output_type": "stream",
     "text": [
      "Vectorization time: 0.9965896606445312ms\n",
      "Non-vectorization time: 68.0384635925293ms\n"
     ]
    },
    {
     "name": "stderr",
     "output_type": "stream",
     "text": [
      "C:\\Users\\Administrator\\AppData\\Local\\Temp\\ipykernel_7932\\592591481.py:12: RuntimeWarning: overflow encountered in exp\n",
      "  b = np.exp(a)\n",
      "C:\\Users\\Administrator\\AppData\\Local\\Temp\\ipykernel_7932\\592591481.py:20: RuntimeWarning: overflow encountered in exp\n",
      "  b[i] = np.exp(a[i])\n"
     ]
    }
   ],
   "source": [
    "import numpy as np\n",
    "import time\n",
    "\n",
    "# Define the size of the arrays\n",
    "array_size = 10000\n",
    "\n",
    "# Generate random arrays\n",
    "a = np.arange(0, array_size)\n",
    "\n",
    "# Vectorization\n",
    "start_time = time.time()\n",
    "b = np.exp(a)\n",
    "end_time = time.time()\n",
    "print(f'Vectorization time: {1000 * (end_time - start_time)}ms')\n",
    "\n",
    "# Non-vectorization\n",
    "start_time = time.time()\n",
    "b = np.zeros(array_size)\n",
    "for i in range(array_size):\n",
    "    b[i] = np.exp(a[i])\n",
    "end_time = time.time()\n",
    "print(f'Non-vectorization time: {1000 * (end_time - start_time)}ms')"
   ]
  }
 ],
 "metadata": {
  "kernelspec": {
   "display_name": "Python 3.9.0 64-bit",
   "language": "python",
   "name": "python3"
  },
  "language_info": {
   "codemirror_mode": {
    "name": "ipython",
    "version": 3
   },
   "file_extension": ".py",
   "mimetype": "text/x-python",
   "name": "python",
   "nbconvert_exporter": "python",
   "pygments_lexer": "ipython3",
   "version": "3.9.0"
  },
  "orig_nbformat": 4,
  "vscode": {
   "interpreter": {
    "hash": "6fff98fc3b3d81bd655c2cc48858186e4d9e2db7b515bf1c3221888f12a62f87"
   }
  }
 },
 "nbformat": 4,
 "nbformat_minor": 2
}
