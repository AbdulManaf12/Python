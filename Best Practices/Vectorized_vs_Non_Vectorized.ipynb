{
 "cells": [
  {
   "cell_type": "markdown",
   "metadata": {},
   "source": [
    "#Vectorized vs Non-Vectorized\n",
    "\n",
    "Dont use non-vectorized code in python due to it is taking more time then vectorized like without loops you can reduce the time so in this example how you can make your code much more faster."
   ]
  },
  {
   "cell_type": "markdown",
   "metadata": {},
   "source": [
    "1. Example"
   ]
  },
  {
   "cell_type": "code",
   "execution_count": 15,
   "metadata": {},
   "outputs": [
    {
     "name": "stdout",
     "output_type": "stream",
     "text": [
      "Vectorization time of 249689.7751335709 is 1.619100570678711ms\n",
      "Non-Vectorized time of 249689.77513357307 is 591.254711151123ms\n"
     ]
    }
   ],
   "source": [
    "import numpy as np\n",
    "import time\n",
    "\n",
    "#generated random 10 million numerics\n",
    "a = np.random.rand(1000000)\n",
    "b = np.random.rand(1000000)\n",
    "\n",
    "##############################################\n",
    "            #VECTORIZATION\n",
    "##############################################\n",
    "#store inital time\n",
    "initial = time.time()\n",
    "#calculating the dot product with the help of vectorization\n",
    "c = np.dot(a, b)\n",
    "#store final time \n",
    "final = time.time()\n",
    "#printing the necessary details\n",
    "print(f'Vectorization time of {c} is {(1000*(final-initial))}ms')\n",
    "\n",
    "##############################################\n",
    "            #NON-VECTORIZATION\n",
    "##############################################\n",
    "#store inital time\n",
    "initial = time.time()\n",
    "#calculating the dot product with the help of vectorization\n",
    "c = 0\n",
    "for i in range(1000000):\n",
    "    c += a[i]*b[i]\n",
    "#store final time \n",
    "final = time.time()\n",
    "#printing the necessary details\n",
    "print(f'Non-Vectorized time of {c} is {(1000*(final-initial))}ms')"
   ]
  }
 ],
 "metadata": {
  "kernelspec": {
   "display_name": "Python 3.9.0 64-bit",
   "language": "python",
   "name": "python3"
  },
  "language_info": {
   "codemirror_mode": {
    "name": "ipython",
    "version": 3
   },
   "file_extension": ".py",
   "mimetype": "text/x-python",
   "name": "python",
   "nbconvert_exporter": "python",
   "pygments_lexer": "ipython3",
   "version": "3.9.0"
  },
  "orig_nbformat": 4,
  "vscode": {
   "interpreter": {
    "hash": "6fff98fc3b3d81bd655c2cc48858186e4d9e2db7b515bf1c3221888f12a62f87"
   }
  }
 },
 "nbformat": 4,
 "nbformat_minor": 2
}
